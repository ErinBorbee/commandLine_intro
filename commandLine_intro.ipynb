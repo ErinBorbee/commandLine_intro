{
 "cells": [
  {
   "cell_type": "markdown",
   "id": "bd0c311c",
   "metadata": {},
   "source": [
    "# Introduction to command line\n",
    "Command line is a powerful way to navigate and create files and directories on your computing system. Here I aim to overview basic commands for navigating unix/linux systems from command line as opposed to using graphical user interfaces (GUIs). This tutorial has been built in a Jupyter notebook using a bash kernel. The commands can either be run within this notebook, or can be copied and pasted into your own terminal window."
   ]
  },
  {
   "cell_type": "markdown",
   "id": "e5e00d65",
   "metadata": {},
   "source": [
    "### Change directories - `cd`\n",
    "Navigating directories in command line is a quick way to access your files and is important for being able to keep your file systems organized. The usage of the `cd` command is `cd [filepath]`. But before we can jump into the code itself, we must first go over the difference between absolute and relative filepaths. \n",
    "\n",
    "*Absolute filepaths* provide the path to the directory of interest starting from the home directory. On my computer my home directory would be `/Users/erinborbee/`. If you are unsure of what your home directory is, try typing the `cd` command with no filepath. This will take you to your home directory. To find the filepath for your home directory once there, we can use the `pwd` command which tells the computer to print working directory."
   ]
  },
  {
   "cell_type": "code",
   "execution_count": 24,
   "id": "03719da1",
   "metadata": {},
   "outputs": [
    {
     "name": "stdout",
     "output_type": "stream",
     "text": [
      "/Users/erinborbee\n"
     ]
    }
   ],
   "source": [
    "cd\n",
    "pwd"
   ]
  },
  {
   "cell_type": "markdown",
   "id": "393c4bab",
   "metadata": {},
   "source": [
    "Now that we have our home directory path let's navigate to our Desktop using the absolute filepath."
   ]
  },
  {
   "cell_type": "code",
   "execution_count": 25,
   "id": "03cfa291",
   "metadata": {},
   "outputs": [
    {
     "name": "stdout",
     "output_type": "stream",
     "text": [
      "/Users/erinborbee/Desktop\n"
     ]
    }
   ],
   "source": [
    "cd /Users/erinborbee/Desktop\n",
    "pwd"
   ]
  },
  {
   "cell_type": "markdown",
   "id": "9bed65bd",
   "metadata": {},
   "source": [
    "One shortcut for writing an absolute filepath is substituing `~/` in place of the home directory as done below."
   ]
  },
  {
   "cell_type": "code",
   "execution_count": 26,
   "id": "5161acb9",
   "metadata": {},
   "outputs": [
    {
     "name": "stdout",
     "output_type": "stream",
     "text": [
      "/Users/erinborbee/Desktop\n"
     ]
    }
   ],
   "source": [
    "cd ~/Desktop\n",
    "pwd"
   ]
  },
  {
   "cell_type": "markdown",
   "id": "a42b1365",
   "metadata": {},
   "source": [
    "*Relative filepaths*, on the other hand, provide the path to the directory of interest relative to your current directory. Since our current directory is `~/Desktop/` we can write a relative filepath from the Desktop to the `exampleData` directory within the `CommandLine_tutorial` directory as shown below."
   ]
  },
  {
   "cell_type": "code",
   "execution_count": 27,
   "id": "a5ec34d1",
   "metadata": {},
   "outputs": [
    {
     "name": "stdout",
     "output_type": "stream",
     "text": [
      "/Users/erinborbee/Desktop/CommandLine_tutorial/exampleData\n"
     ]
    }
   ],
   "source": [
    "cd CommandLine_tutorial/exampleData\n",
    "pwd"
   ]
  },
  {
   "cell_type": "markdown",
   "id": "d9edfdc1",
   "metadata": {},
   "source": [
    "We can also write relative filepaths to navigate backwards towards our home directory using `../`. So to navigate from the exampleData directory back to the CommandLine_tutorial directory we can use the following command."
   ]
  },
  {
   "cell_type": "code",
   "execution_count": 28,
   "id": "76473899",
   "metadata": {},
   "outputs": [
    {
     "name": "stdout",
     "output_type": "stream",
     "text": [
      "/Users/erinborbee/Desktop/CommandLine_tutorial\n"
     ]
    }
   ],
   "source": [
    "cd ../\n",
    "pwd"
   ]
  },
  {
   "cell_type": "markdown",
   "id": "100b760a",
   "metadata": {},
   "source": [
    "Another shortcut to writing filepaths quickly in command line is to use the tab key to autocomplete a directory name. To do this you begin typing a directory name and then hit the tab key once. This will automatically fill the name of a directory in the path. If the directory name does not autocomplete, it could mean you have the incorrect path, a typo in your filepath, or that there are multiple directories that begin with the same characters and therefore you need to provide more characters for the computer to autocomplete it. If you are unsure of which directories are present within a directory in your path, you can also hit the tab key twice to list the directories before completing your filepath."
   ]
  },
  {
   "cell_type": "markdown",
   "id": "19bfb4a6",
   "metadata": {},
   "source": [
    "### List contents of directories - `ls`\n",
    "Listing the contents of a directory allows you to see the names of all files and directories within the designated directory. Let's start by listing the contents of our current directory using the `ls` command."
   ]
  },
  {
   "cell_type": "code",
   "execution_count": 13,
   "id": "c0f60f08",
   "metadata": {},
   "outputs": [
    {
     "name": "stdout",
     "output_type": "stream",
     "text": [
      "CommandLine_intro.ipynb \u001b[1m\u001b[36mexampleData\u001b[39;49m\u001b[0m\n"
     ]
    }
   ],
   "source": [
    "ls"
   ]
  },
  {
   "cell_type": "markdown",
   "id": "53e972aa",
   "metadata": {},
   "source": [
    "*Using the* `ls` *command with filepaths*\n",
    "\n",
    "You should now be able to see the filenames and directories inside your current directory. If you are looking to list the contents of a directory other than your current directory you need to indicate either the relative or absolute filepath for the directory of interest. The command will take the format of `ls [filepath]`.\n",
    "\n",
    "Let's try running the `ls` command using both the absolute and realtive filepaths for the `exampleData` directory. "
   ]
  },
  {
   "cell_type": "code",
   "execution_count": 32,
   "id": "dfa32703",
   "metadata": {},
   "outputs": [],
   "source": [
    "ls ~/Desktop/CommandLine_tutorial/exampleData/"
   ]
  },
  {
   "cell_type": "code",
   "execution_count": 33,
   "id": "c8851d62",
   "metadata": {},
   "outputs": [],
   "source": [
    "ls exampleData/"
   ]
  },
  {
   "cell_type": "markdown",
   "id": "5e9769a9",
   "metadata": {},
   "source": [
    "*Using Flags with the* `ls` *command*\n",
    "\n",
    "Now, let's practice using different flags with the ls command. Flags allow us to specify what information we want out in our command output. Flags always come after the initial command and are preceded by \"-\". When using flags, the command takes the format `ls [flags] [filepath]`. The first flag we will try is `-d`. This flag will only print directories within the designated directory."
   ]
  },
  {
   "cell_type": "code",
   "execution_count": 34,
   "id": "bee8bd11",
   "metadata": {},
   "outputs": [
    {
     "name": "stdout",
     "output_type": "stream",
     "text": [
      "\u001b[1m\u001b[36m/Users/erinborbee/Desktop/CommandLine_tutorial\u001b[39;49m\u001b[0m\n"
     ]
    }
   ],
   "source": [
    "ls -d ~/Desktop/CommandLine_tutorial "
   ]
  },
  {
   "cell_type": "markdown",
   "id": "b096d161",
   "metadata": {},
   "source": [
    "Flags that can be used with the `ls` command include the following:\n",
    "\n",
    "`-a` = list all files including hidden files\n",
    "\n",
    "`-d` = list only directories\n",
    "\n",
    "`-l` = list contents in long format, which includes content permissions, owner, group owner, size (in Bytes), date last modified, and name\n",
    "\n",
    "`-r` = list contents in reverse order\n",
    "\n",
    "`-R` = list all directories and subdirectories down to the last file\n",
    "\n",
    "`-s` = list size of all contents in directory\n",
    "\n",
    "`-S` = sorts listed contents by size\n",
    "\n",
    "`-t` = sorts listed contents by last date modified\n",
    "\n",
    "`-X` = sorts files by extension name\n",
    "\n",
    "We can also combine these flags within a single command. For example, if we wanted to list the contents of the directory in long format in reverse time order (the oldest file listed first) we can combine the `-l`, `-t`, and `-r` flags into a single flag in the command."
   ]
  },
  {
   "cell_type": "code",
   "execution_count": 35,
   "id": "58d953bd",
   "metadata": {},
   "outputs": [
    {
     "name": "stdout",
     "output_type": "stream",
     "text": [
      "total 32\n",
      "drwxr-xr-x  2 erinborbee  staff    64 Jan  4 16:00 \u001b[1m\u001b[36mexampleData\u001b[39;49m\u001b[0m\n",
      "-rw-r--r--  1 erinborbee  staff  3598 Jan  4 16:08 CommandLine_intro.ipynb\n",
      "-rw-r--r--  1 erinborbee  staff  9733 Jan  5 17:46 notebook.ipynb\n"
     ]
    }
   ],
   "source": [
    "ls -ltr ~/Desktop/CommandLine_tutorial "
   ]
  },
  {
   "cell_type": "markdown",
   "id": "e1589506",
   "metadata": {},
   "source": [
    "*Using wildcards with the* `ls` *command*\n",
    "Wilcards are an important tool to run commands on specific group of files or directories. In the case of the `ls` command we can use wildcards to only list files with certain character strings in them. The symbol for a wildcard is `*`. To use the wildcard we type the ls command just as we did above, but when we type the filepath we insert wilcards to indicate to the computer to search for any characters in that position. So if we were to only list jupyter notebook files (file ending .ipynb) present in the `CommandLine_tutorial` directory we would use the following command."
   ]
  },
  {
   "cell_type": "code",
   "execution_count": 36,
   "id": "fe872ecf",
   "metadata": {},
   "outputs": [
    {
     "name": "stdout",
     "output_type": "stream",
     "text": [
      "/Users/erinborbee/Desktop/CommandLine_tutorial/CommandLine_intro.ipynb\n",
      "/Users/erinborbee/Desktop/CommandLine_tutorial/notebook.ipynb\n"
     ]
    }
   ],
   "source": [
    "ls ~/Desktop/CommandLine_tutorial/*.ipynb"
   ]
  },
  {
   "cell_type": "markdown",
   "id": "8a81dd13",
   "metadata": {},
   "source": [
    "We can also use multiple wildcards to tell the computer to match any string of characters in the middle of the filepath."
   ]
  },
  {
   "cell_type": "code",
   "execution_count": 37,
   "id": "7d4a0008",
   "metadata": {},
   "outputs": [
    {
     "name": "stdout",
     "output_type": "stream",
     "text": [
      "/Users/erinborbee/Desktop/CommandLine_tutorial/CommandLine_intro.ipynb\n",
      "/Users/erinborbee/Desktop/CommandLine_tutorial/notebook.ipynb\n"
     ]
    }
   ],
   "source": [
    "ls ~/Desktop/CommandLine_tutorial/*ipy*"
   ]
  },
  {
   "cell_type": "markdown",
   "id": "9ca7d7ad",
   "metadata": {},
   "source": [
    "### Make directories - `mkdir`\n",
    "Just as we can navigate directories via command line, we can also make directories via command line. To do this we use the `mkdir` command. The command usage is `mkdir [newDirectory_name]`. So to make a directory named `newFolder` we could use the following command."
   ]
  },
  {
   "cell_type": "code",
   "execution_count": 38,
   "id": "4c95d1ec",
   "metadata": {},
   "outputs": [],
   "source": [
    "mkdir newFolder"
   ]
  },
  {
   "cell_type": "markdown",
   "id": "e3ee9f58",
   "metadata": {},
   "source": [
    "Now when we use the `ls` command we can see the newly made directory."
   ]
  },
  {
   "cell_type": "code",
   "execution_count": 48,
   "id": "ab74e9d7",
   "metadata": {},
   "outputs": [
    {
     "name": "stdout",
     "output_type": "stream",
     "text": [
      "CommandLine_intro.ipynb \u001b[1m\u001b[36mnewFolder\u001b[39;49m\u001b[0m\n",
      "\u001b[1m\u001b[36mexampleData\u001b[39;49m\u001b[0m             notebook.ipynb\n",
      "/Users/erinborbee/Desktop/CommandLine_tutorial\n"
     ]
    }
   ],
   "source": [
    "ls"
   ]
  },
  {
   "cell_type": "markdown",
   "id": "409f6346",
   "metadata": {},
   "source": [
    "We can also make new directories in directories other than our current directory by typing the absolute or relative filepath to the new directory when typing the new directory name. So if we were to create a new folder inside of the exampleData directory we could do it with either of the following commands."
   ]
  },
  {
   "cell_type": "code",
   "execution_count": 49,
   "id": "878b76b5",
   "metadata": {},
   "outputs": [
    {
     "name": "stdout",
     "output_type": "stream",
     "text": [
      "\u001b[1m\u001b[36mdata1\u001b[39;49m\u001b[0m \u001b[1m\u001b[36mdata2\u001b[39;49m\u001b[0m\n"
     ]
    }
   ],
   "source": [
    "mkdir ~/Desktop/CommandLine_tutorial/exampleData/data1\n",
    "mkdir exampleData/data2\n",
    "\n",
    "cd exampleData\n",
    "ls"
   ]
  },
  {
   "cell_type": "markdown",
   "id": "f7d4c39f",
   "metadata": {},
   "source": [
    "For the next portion of this tutorial, let's navigate back to the `CommandLine_tutorial` directory."
   ]
  },
  {
   "cell_type": "code",
   "execution_count": 52,
   "id": "9c519112",
   "metadata": {},
   "outputs": [],
   "source": [
    "cd ../"
   ]
  },
  {
   "cell_type": "markdown",
   "id": "4312ea66",
   "metadata": {},
   "source": [
    "### Move command - `mv`\n",
    "\n",
    "*Moving files and directories using* `mv`\n",
    "\n",
    "The `mv` command has two main functions. It can be used to move files and directories to new directories and it can also be used to rename files files and directories. Let's start with moving files between directories. To move files the command usage is `mv [filePath/fileName] [filePath_to_newDirectory]`."
   ]
  },
  {
   "cell_type": "code",
   "execution_count": 54,
   "id": "e72a5a02",
   "metadata": {},
   "outputs": [
    {
     "name": "stdout",
     "output_type": "stream",
     "text": [
      "mv: CommandLine_intro.ipynb: No such file or directory\n",
      "\u001b[1m\u001b[36mexampleData\u001b[39;49m\u001b[0m    \u001b[1m\u001b[36mnewFolder\u001b[39;49m\u001b[0m      notebook.ipynb\n",
      "\n",
      "./exampleData:\n",
      "\u001b[1m\u001b[36mdata1\u001b[39;49m\u001b[0m \u001b[1m\u001b[36mdata2\u001b[39;49m\u001b[0m\n",
      "\n",
      "./exampleData/data1:\n",
      "\n",
      "./exampleData/data2:\n",
      "\n",
      "./newFolder:\n",
      "CommandLine_intro.ipynb\n"
     ]
    }
   ],
   "source": [
    "mv CommandLine_intro.ipynb newFolder/\n",
    "ls -R"
   ]
  },
  {
   "cell_type": "markdown",
   "id": "20aced5d",
   "metadata": {},
   "source": [
    "Moving directories works the exact same way as moving files except instead of a file name we provide a directory name followed by a `/`."
   ]
  },
  {
   "cell_type": "code",
   "execution_count": 62,
   "id": "ea9d0837",
   "metadata": {},
   "outputs": [
    {
     "name": "stdout",
     "output_type": "stream",
     "text": [
      "mv: exampleData/: No such file or directory\n",
      "\u001b[1m\u001b[36mexampleData\u001b[39;49m\u001b[0m            renamed_notebook.ipynb\n"
     ]
    }
   ],
   "source": [
    "mv exampleData/ newFolder/\n",
    "\n",
    "cd newFolder/\n",
    "ls"
   ]
  },
  {
   "cell_type": "markdown",
   "id": "3a803f47",
   "metadata": {},
   "source": [
    "You can also use wildcards with the `mv` command to move multiple files and directories with a designated string of characters at once."
   ]
  },
  {
   "cell_type": "code",
   "execution_count": 57,
   "id": "78582a6b",
   "metadata": {},
   "outputs": [
    {
     "name": "stdout",
     "output_type": "stream",
     "text": [
      "mv: rename *.txt to newFolder/*.txt: No such file or directory\n",
      "renamed_notebook.ipynb\n"
     ]
    }
   ],
   "source": [
    "mv *.txt newFolder\n",
    "\n",
    "cd newFolder\n",
    "ls"
   ]
  },
  {
   "cell_type": "markdown",
   "id": "757e1222",
   "metadata": {},
   "source": [
    "*Renaming files with* `mv`\n",
    "\n",
    "Renaming a file or directory works similar to moving a file but instead of providing the path to a new directory you provide the command with a new file or directory name as shown in the command below."
   ]
  },
  {
   "cell_type": "code",
   "execution_count": 55,
   "id": "ee4cb86c",
   "metadata": {},
   "outputs": [
    {
     "name": "stdout",
     "output_type": "stream",
     "text": [
      "renamed_notebook.ipynb\n"
     ]
    }
   ],
   "source": [
    "mv CommandLine_intro.ipynb newFolder/renamed_notebook.ipynb\n",
    "ls "
   ]
  },
  {
   "cell_type": "markdown",
   "id": "709deeaf",
   "metadata": {},
   "source": [
    "### Copy command - `cp`\n",
    "Sometimes you need to copy a file into a new directory instead of moving the file entirely. To do this we use the `cp` command. This command works almost identical to the mv command, `cp [filePath/fileName] [filePath_to_newDirectory]`."
   ]
  },
  {
   "cell_type": "markdown",
   "id": "aca15531",
   "metadata": {},
   "source": [
    "### Remove - `rm`\n",
    "The `rm` command is easily one of the most dangerous commands to use in command line. Once you remove a file or directory using the `rm` command it is gone and CANNOT be retrieved. The usage of the `rm` command is simply `rm [filePath/fileName]`. "
   ]
  },
  {
   "cell_type": "code",
   "execution_count": 66,
   "id": "5556d413",
   "metadata": {},
   "outputs": [
    {
     "name": "stdout",
     "output_type": "stream",
     "text": [
      "\u001b[1m\u001b[36mApplications\u001b[39;49m\u001b[0m                      \u001b[1m\u001b[36mMovies\u001b[39;49m\u001b[0m\n",
      "\u001b[1m\u001b[36mCreative Cloud Files\u001b[39;49m\u001b[0m              \u001b[1m\u001b[36mMusic\u001b[39;49m\u001b[0m\n",
      "\u001b[1m\u001b[36mCytoscapeConfiguration\u001b[39;49m\u001b[0m            \u001b[1m\u001b[36mOneDrive - Texas State University\u001b[39;49m\u001b[0m\n",
      "\u001b[1m\u001b[36mDesktop\u001b[39;49m\u001b[0m                           \u001b[1m\u001b[36mPictures\u001b[39;49m\u001b[0m\n",
      "\u001b[1m\u001b[36mDocuments\u001b[39;49m\u001b[0m                         \u001b[1m\u001b[36mPublic\u001b[39;49m\u001b[0m\n",
      "\u001b[1m\u001b[36mDownloads\u001b[39;49m\u001b[0m                         \u001b[1m\u001b[36mTexas State University\u001b[39;49m\u001b[0m\n",
      "\u001b[1m\u001b[36mDropbox\u001b[39;49m\u001b[0m                           \u001b[1m\u001b[36mZotero\u001b[39;49m\u001b[0m\n",
      "\u001b[1m\u001b[36mELMO Interactive Toolbox\u001b[39;49m\u001b[0m          \u001b[1m\u001b[36mperl5\u001b[39;49m\u001b[0m\n",
      "\u001b[1m\u001b[36mLibrary\u001b[39;49m\u001b[0m\n"
     ]
    }
   ],
   "source": [
    "cd ~/Desktop/ \n"
   ]
  }
 ],
 "metadata": {
  "kernelspec": {
   "display_name": "Bash",
   "language": "bash",
   "name": "bash"
  },
  "language_info": {
   "codemirror_mode": "shell",
   "file_extension": ".sh",
   "mimetype": "text/x-sh",
   "name": "bash"
  }
 },
 "nbformat": 4,
 "nbformat_minor": 5
}
