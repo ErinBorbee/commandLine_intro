{
 "cells": [
  {
   "cell_type": "markdown",
   "id": "bd0c311c",
   "metadata": {},
   "source": [
    "# Introduction to command line\n",
    "Command line is a powerful way to navigate and create files and directories. Here, I overview basic commands for navigating unix/linux systems from command line interface (CLI) as opposed to graphical user interfaces (GUIs). This tutorial has been built in a Jupyter notebook using a bash kernel. The commands can be run directly in this notebook by pressing the play button (sideways triangle) at the top of the page, or by clicking \"run selected cells\" under the run menu, or by pressing `CTRL` + `ENTER` for the selected cell."
   ]
  },
  {
   "cell_type": "markdown",
   "id": "e5e00d65",
   "metadata": {},
   "source": [
    "### Change directories - `cd`\n",
    "Navigating directories in command line is a quick way to access your files and is important for being able to keep your file systems organized. The usage of the `cd` command is `cd [filepath]`. This command can be used with both absolute and relative filepaths which are summarized below. \n",
    "\n",
    "*Absolute filepaths* \n",
    "\n",
    "Absolute filepaths provide the path to the directory of interest starting from the home directory. On my local computer, my home directory for example is `/Users/erinborbee/`. If you are unsure of what your home directory is, try typing the `cd` command with no filepath. This will take you to your home directory. To find the filepath for your home directory once there, we can use the `pwd` command which tells the computer to print working directory."
   ]
  },
  {
   "cell_type": "code",
   "execution_count": null,
   "id": "03719da1",
   "metadata": {},
   "outputs": [],
   "source": [
    "cd\n",
    "pwd"
   ]
  },
  {
   "cell_type": "markdown",
   "id": "393c4bab",
   "metadata": {},
   "source": [
    "From here we can see that the home directory for this notebook is `/home/jovyan`. Now that we have our home directory path let's navigate to the `tutorialDocs` directory located within our home directory using the absolute filepath."
   ]
  },
  {
   "cell_type": "code",
   "execution_count": null,
   "id": "03cfa291",
   "metadata": {},
   "outputs": [],
   "source": [
    "cd /home/jovyan/tutorialDocs\n",
    "pwd"
   ]
  },
  {
   "cell_type": "markdown",
   "id": "9bed65bd",
   "metadata": {},
   "source": [
    "Another way we can write our absolute filepath is by substituting `~/` in place of our home directory. The command below uses this shortcut to navigate to the same `tutorialDocs` directory that we did in the previous command."
   ]
  },
  {
   "cell_type": "code",
   "execution_count": null,
   "id": "5161acb9",
   "metadata": {},
   "outputs": [],
   "source": [
    "cd ~/tutorialDocs\n",
    "pwd"
   ]
  },
  {
   "cell_type": "markdown",
   "id": "05ec2494",
   "metadata": {},
   "source": [
    "Before moving on to relative filepaths, let's first navigate back to our home directory using the same `cd` command we ran at the start of the tutorial."
   ]
  },
  {
   "cell_type": "code",
   "execution_count": null,
   "id": "3c32b9ab",
   "metadata": {},
   "outputs": [],
   "source": [
    "cd\n",
    "pwd"
   ]
  },
  {
   "cell_type": "markdown",
   "id": "a42b1365",
   "metadata": {},
   "source": [
    "*Relative filepaths*\n",
    "\n",
    "Relative filepaths provide the path to the directory of interest relative to your current directory. Since our current directory is `/home/jovyan` we can write a relative filepath from our home directory to the `tutorialDocs` directory as shown below."
   ]
  },
  {
   "cell_type": "code",
   "execution_count": null,
   "id": "a5ec34d1",
   "metadata": {},
   "outputs": [],
   "source": [
    "cd tutorialDocs\n",
    "pwd"
   ]
  },
  {
   "cell_type": "markdown",
   "id": "d9edfdc1",
   "metadata": {},
   "source": [
    "We can also write relative filepaths to navigate backwards towards our home directory using `../`. So to navigate from the`tutorialDocs` directory back to our home directory, we can use the following command."
   ]
  },
  {
   "cell_type": "code",
   "execution_count": null,
   "id": "76473899",
   "metadata": {},
   "outputs": [],
   "source": [
    "cd ../\n",
    "pwd"
   ]
  },
  {
   "cell_type": "markdown",
   "id": "100b760a",
   "metadata": {},
   "source": [
    "Another shortcut to writing filepaths quickly in command line is to use the tab key to autocomplete a directory or file name. To do this you begin typing a directory name and then hit the tab key once. This will automatically fill the name of a directory in the path. If the directory name does not autocomplete, it could mean you have the incorrect path, a typo in your filepath, or that there are multiple directories that begin with the same characters and therefore you need to provide more characters for the computer to autocomplete it. If you are unsure of which directories are present within a directory in your path, you can also hit the tab key twice to list the directories before completing your filepath."
   ]
  },
  {
   "cell_type": "markdown",
   "id": "19bfb4a6",
   "metadata": {},
   "source": [
    "### List contents of directories - `ls`\n",
    "Listing the contents of a directory allows you to see the names of all files and directories within the designated directory. Let's start by listing the contents of our current directory using the `ls` command."
   ]
  },
  {
   "cell_type": "code",
   "execution_count": null,
   "id": "c0f60f08",
   "metadata": {},
   "outputs": [],
   "source": [
    "ls"
   ]
  },
  {
   "cell_type": "markdown",
   "id": "53e972aa",
   "metadata": {},
   "source": [
    "*Using the* `ls` *command with filepaths*\n",
    "\n",
    "You should now be able to see the filenames and directories inside your current directory. If you are looking to list the contents of a directory other than your current directory you need to indicate either the relative or absolute filepath for the directory of interest. The command will take the format of `ls [filepath]`.\n",
    "\n",
    "Let's try running the `ls` command using both the absolute and realtive filepaths for the `tutorialDocs` directory. "
   ]
  },
  {
   "cell_type": "code",
   "execution_count": null,
   "id": "dfa32703",
   "metadata": {},
   "outputs": [],
   "source": [
    "ls ~/tutorialDocs"
   ]
  },
  {
   "cell_type": "code",
   "execution_count": null,
   "id": "c8851d62",
   "metadata": {},
   "outputs": [],
   "source": [
    "ls tutorialDocs"
   ]
  },
  {
   "cell_type": "markdown",
   "id": "5e9769a9",
   "metadata": {},
   "source": [
    "*Using Flags with the* `ls` *command*\n",
    "\n",
    "Now, let's practice using different flags with the ls command. Flags allow us to specify what information we want out in our command output. Flags always come after the initial command and are preceded by \"-\". When using flags, the command takes the format `ls [flags] [filepath]`. "
   ]
  },
  {
   "cell_type": "markdown",
   "id": "b096d161",
   "metadata": {},
   "source": [
    "Flags that can be used with the `ls` command include the following:\n",
    "\n",
    "`-a` = list all files including hidden files\n",
    "\n",
    "`-d` = list only directories\n",
    "\n",
    "`-l` = list contents in long format, which includes content permissions, owner, group owner, size (in Bytes), date last modified, and name\n",
    "\n",
    "`-r` = list contents in reverse order\n",
    "\n",
    "`-R` = list all directories and subdirectories down to the last file\n",
    "\n",
    "`-s` = list size of all contents in directory\n",
    "\n",
    "`-S` = sorts listed contents by size\n",
    "\n",
    "`-t` = sorts listed contents by last date modified\n",
    "\n",
    "`-X` = sorts files by extension name"
   ]
  },
  {
   "cell_type": "markdown",
   "id": "1dcf7b1d",
   "metadata": {},
   "source": [
    "The first flag we will try is `-l`. This flag will list contents of the directory in long format with the output including all the information indicated above."
   ]
  },
  {
   "cell_type": "code",
   "execution_count": null,
   "id": "bee8bd11",
   "metadata": {},
   "outputs": [],
   "source": [
    "ls -l ~/tutorialDocs"
   ]
  },
  {
   "cell_type": "markdown",
   "id": "881b968c",
   "metadata": {},
   "source": [
    "We can also combine these flags within a single command. For example, if we wanted to list the contents of the directory in long format in reverse time order (the oldest file listed first) we can combine the `-l`, `-t`, and `-r` flags into a single flag in the command."
   ]
  },
  {
   "cell_type": "code",
   "execution_count": null,
   "id": "58d953bd",
   "metadata": {},
   "outputs": [],
   "source": [
    "ls -ltr ~/tutorialDocs"
   ]
  },
  {
   "cell_type": "markdown",
   "id": "e1589506",
   "metadata": {},
   "source": [
    "*Using wildcards with the* `ls` *command*\n",
    "\n",
    "Wilcards are an important tool to run commands on specific group of files or directories. In the case of the `ls` command we can use wildcards to only list files with certain character strings in them. The symbol for a wildcard is `*`. To use the wildcard we type the ls command just as we did above, but when we type the filepath we insert wilcards to indicate to the computer to search for any characters in that position. So if we were to only list tab delimited files (`.txt`) present in the `exampleData` directory we would use the following command."
   ]
  },
  {
   "cell_type": "code",
   "execution_count": null,
   "id": "fe872ecf",
   "metadata": {},
   "outputs": [],
   "source": [
    "ls ~/tutorialDocs/exampleData/*.txt"
   ]
  },
  {
   "cell_type": "markdown",
   "id": "8a81dd13",
   "metadata": {},
   "source": [
    "We can also use multiple wildcards to tell the computer to match any string of characters in the middle of the filepath. The command below tells the computer to list any files in the `exampleData` directory containing the string `Data` in the filename."
   ]
  },
  {
   "cell_type": "code",
   "execution_count": null,
   "id": "7d4a0008",
   "metadata": {},
   "outputs": [],
   "source": [
    "ls ~/tutorialDocs/exampleData/*Data*"
   ]
  },
  {
   "cell_type": "markdown",
   "id": "9ca7d7ad",
   "metadata": {},
   "source": [
    "### Make directories - `mkdir`\n",
    "Just as we can navigate directories via command line, we can also make directories via command line. To do this we use the `mkdir` command. The command usage is `mkdir [newDirectory_name]`. So to make a directory named `newFolder` we could use the following command."
   ]
  },
  {
   "cell_type": "code",
   "execution_count": null,
   "id": "4c95d1ec",
   "metadata": {},
   "outputs": [],
   "source": [
    "mkdir newFolder"
   ]
  },
  {
   "cell_type": "markdown",
   "id": "e3ee9f58",
   "metadata": {},
   "source": [
    "Now when we use the `ls` command we can see the newly made directory in our current directory."
   ]
  },
  {
   "cell_type": "code",
   "execution_count": null,
   "id": "ab74e9d7",
   "metadata": {},
   "outputs": [],
   "source": [
    "ls"
   ]
  },
  {
   "cell_type": "markdown",
   "id": "409f6346",
   "metadata": {},
   "source": [
    "We can also make new directories in directories other than our current directory by typing the absolute or relative filepath to the new directory when typing the new directory name. So if we were to create a new folder inside of the exampleData directory we could do it with either of the following commands."
   ]
  },
  {
   "cell_type": "code",
   "execution_count": null,
   "id": "878b76b5",
   "metadata": {},
   "outputs": [],
   "source": [
    "mkdir ~/tutorialDocs/exampleData/data1\n",
    "mkdir tutorialDocs/exampleData/data2\n",
    "\n",
    "ls ~/tutorialDocs/exampleData/"
   ]
  },
  {
   "cell_type": "markdown",
   "id": "4312ea66",
   "metadata": {},
   "source": [
    "### Move command - `mv`\n",
    "\n",
    "*Moving files and directories using* `mv`\n",
    "\n",
    "The `mv` command has two main functions. It can be used to move files and directories to new directories and it can also be used to rename files and directories. Let's start with moving files between directories. \n",
    "\n",
    "To move files the command usage is `mv [filePath/fileName] [filePath_to_newDirectory]`. The command below shows us how we can move our `siteData.csv` file into the `data1` directory we created in the `exampleData` directory in the previous section of this tutorial."
   ]
  },
  {
   "cell_type": "code",
   "execution_count": null,
   "id": "e72a5a02",
   "metadata": {},
   "outputs": [],
   "source": [
    "mv ~/tutorialDocs/exampleData/siteData.csv ~/tutorialDocs/exampleData/data1\n",
    "ls -R"
   ]
  },
  {
   "cell_type": "markdown",
   "id": "20aced5d",
   "metadata": {},
   "source": [
    "Moving directories works the exact same way as moving files except instead of a file name we provide a directory name followed by a `/`. In the command below we are moving the `newFolder` directory into the `tutorialDocs` directory."
   ]
  },
  {
   "cell_type": "code",
   "execution_count": null,
   "id": "ea9d0837",
   "metadata": {},
   "outputs": [],
   "source": [
    "mv newFolder/ tutorialDocs/\n",
    "\n",
    "ls ~/tutorialDocs"
   ]
  },
  {
   "cell_type": "markdown",
   "id": "3a803f47",
   "metadata": {},
   "source": [
    "You can also use wildcards with the `mv` command to move multiple files and directories with a designated string of characters at once. The command below moves all tab delimited files (`.txt`) from the `exampleData` directory into the `data2` directory."
   ]
  },
  {
   "cell_type": "code",
   "execution_count": null,
   "id": "78582a6b",
   "metadata": {},
   "outputs": [],
   "source": [
    "mv ~/tutorialDocs/exampleData/*.txt ~/tutorialDocs/exampleData/data2\n",
    "\n",
    "ls ~/tutorialDocs/exampleData/data2"
   ]
  },
  {
   "cell_type": "markdown",
   "id": "757e1222",
   "metadata": {},
   "source": [
    "*Renaming files with* `mv`\n",
    "\n",
    "Renaming a file or directory works similar to moving a file but instead of providing the path to a new directory you provide the command with a new file or directory name as shown in the command below. Therefore, the command usage is `mv [filename] [newFilename]`. The command below renames the `projectSummary.txt` file in the `tutorialDocs` directory to `project_info.txt`."
   ]
  },
  {
   "cell_type": "code",
   "execution_count": null,
   "id": "ee4cb86c",
   "metadata": {},
   "outputs": [],
   "source": [
    "mv ~/tutorialDocs/projectSummary.txt ~/tutorialDocs/project_info.txt\n",
    "ls "
   ]
  },
  {
   "cell_type": "markdown",
   "id": "709deeaf",
   "metadata": {},
   "source": [
    "### Copy command - `cp`\n",
    "Sometimes you need to copy a file into a new directory instead of moving the file entirely. To do this we use the `cp` command. This command works almost identical to the mv command, `cp [filePath/fileName] [filePath_to_newDirectory]`. The command below copies the `siteData.csv` file from the `data1` directory into the `exampleData` directory using absolute filepaths. \n",
    "\n",
    "Remember, the `data1` directory was created above in the `mkdir` portion of the tutorial and is located within the `exampleData` directory."
   ]
  },
  {
   "cell_type": "code",
   "execution_count": null,
   "id": "4d87e841",
   "metadata": {},
   "outputs": [],
   "source": [
    "cp ~/tutorialDocs/exampleData/data1/siteData.csv ~/tutorialDocs/exampleData/\n",
    "ls ~/tutorialDocs/exampleData"
   ]
  },
  {
   "cell_type": "markdown",
   "id": "160fc6db",
   "metadata": {},
   "source": [
    "We can also write the same command using relative filepaths, by first navigating into the directory where the file we want to move is located and then writing a relative path to where we want the file to go. Reminder that we can use `../` to write a relative filepath backwards towards our home directory as mentioned above. \n",
    "\n",
    "To avoid making two copies of the `siteData.csv` file in the `exampleData` directory, the commands below will first navigate to the `data1` directory, and then copy the `siteData.csv` file into the `tutorialDocs` folder using the relative filepaths."
   ]
  },
  {
   "cell_type": "code",
   "execution_count": null,
   "id": "22ed4bdf",
   "metadata": {},
   "outputs": [],
   "source": [
    "cd ~/tutorialDocs/exampleData/data1/\n",
    "\n",
    "cp siteData.csv ../../\n",
    "\n",
    "cd ~/tutorialDocs\n",
    "ls"
   ]
  },
  {
   "cell_type": "markdown",
   "id": "e5ff4be2",
   "metadata": {},
   "source": [
    "### Viewing contents of files - `cat`, `less`, `head`\n",
    "\n",
    "Viewing the contents of a file can be useful for indentifying issues with format of a file or simply to confirm that a given file contains what you are looking for. However, when working with large datasets, we oft cannot open certain data files in GUIs. In order to view all or part of the contents of a document, there are a number of commands we can use that we will go through here.\n",
    "\n",
    "#### `cat`\n",
    "\n",
    "The first command we will cover is `cat`. The `cat` command can be used to concatenate multiple files together and print the output. When used with one file, it will simply print the entire contents of the file. the useage of this command with a single file is `cat [filename]`. The command below shows the output of using this command on the `frequencyData.txt` file in the `exampleData` directory."
   ]
  },
  {
   "cell_type": "code",
   "execution_count": null,
   "id": "1f1b87db",
   "metadata": {},
   "outputs": [],
   "source": [
    "cat ~/tutorialDocs/exampleData/data2/frequencyData.txt"
   ]
  },
  {
   "cell_type": "markdown",
   "id": "57868669",
   "metadata": {},
   "source": [
    "If we wanted to combine multiple files into one and print the output, the useage of the `cat` command is `cat [filename1] [filename2] > [newFilename]`. If no new filename is provided, the command with simply print both files back to back in the terminal window. The commands below show the output of using the `cat` command to view two separate files and then using it to concatenate two fasta files and viewing the concatenated output."
   ]
  },
  {
   "cell_type": "code",
   "execution_count": null,
   "id": "ec2197b5",
   "metadata": {},
   "outputs": [],
   "source": [
    "cat ~/tutorialDocs/exampleData/fasta1.fa"
   ]
  },
  {
   "cell_type": "code",
   "execution_count": null,
   "id": "3537f9ea",
   "metadata": {},
   "outputs": [],
   "source": [
    "cat ~/tutorialDocs/exampleData/fasta2.fa"
   ]
  },
  {
   "cell_type": "code",
   "execution_count": null,
   "id": "b5989b4d",
   "metadata": {},
   "outputs": [],
   "source": [
    "cat ~/tutorialDocs/exampleData/fasta1.fa ~/tutorialDocs/exampleData/fasta2.fa > newFasta.fa\n",
    "cat newFasta.fa"
   ]
  },
  {
   "cell_type": "markdown",
   "id": "4142a6ee",
   "metadata": {},
   "source": [
    "#### `less`\n",
    "\n",
    "When working with real data, often the files are far longer than you want to open in a small terminal window. In that case, `cat` may not be the ideal command for viewing the contents of a file. Instead, we can use the `less` command which will follow the useage `less [filename]`. Instead of printing the entire file, less will only print enough of the file to fill your terminal window and allows you to scroll through the contents of the file. When you are done scrolling through the file, you simply type `q` and you return to you previous terminal screen. Since, this tutorial is in a Jupyter Notebook and not a terminal window, we will not demonstrate this command here."
   ]
  },
  {
   "cell_type": "markdown",
   "id": "a4fce56f",
   "metadata": {},
   "source": [
    "#### `head`\n",
    "\n",
    "In some cases, you only need to see a certain number of lines at the beginning of the file instead of loading the whole file. In those cases, the `head` command may be the most useful. The `head` command follows the useage `head [filename]` and by default prints the first ten lines of a file. The command below uses the `head` command to print the first 10 lines of the `frequencyData.txt` file in the `exampleData` directory. "
   ]
  },
  {
   "cell_type": "code",
   "execution_count": null,
   "id": "e9699fe0",
   "metadata": {},
   "outputs": [],
   "source": [
    "head ~/tutorialDocs/exampleData/data2/frequencyData.txt"
   ]
  },
  {
   "cell_type": "markdown",
   "id": "bf78d77d",
   "metadata": {},
   "source": [
    "Just as with other commands we can use flags to customize our output from the `head` command. The `-n` flag is particularly useful because it allows us to designate how many lines from the start of the file we want to print. The useage of the `head` command with flags is `head [flags] [filename]`. The command below, for example shows how we can use the `-n` flag to tell the command line to only print the first 5 lines of the `frequencyData.txt` file."
   ]
  },
  {
   "cell_type": "code",
   "execution_count": null,
   "id": "eafd9f4b",
   "metadata": {},
   "outputs": [],
   "source": [
    "head -n 5 ~/tutorialDocs/exampleData/data2/frequencyData.txt"
   ]
  },
  {
   "cell_type": "markdown",
   "id": "aca15531",
   "metadata": {},
   "source": [
    "### Remove - `rm`\n",
    "The `rm` command is easily one of the most dangerous commands to use in command line. Once you remove a file or directory using the `rm` command it is gone and CANNOT be retrieved. The usage of the `rm` command is simply `rm [filePath/fileName]`. Be very cautious and always double check your syntax when using this command! The command below removes the copy of the siteData.csv file we made in the `tutorialDocs` directory in the above command."
   ]
  },
  {
   "cell_type": "code",
   "execution_count": null,
   "id": "5556d413",
   "metadata": {},
   "outputs": [],
   "source": [
    "rm ~/tutorialDocs/siteData.csv\n",
    "ls ~/tutorialDocs"
   ]
  },
  {
   "cell_type": "markdown",
   "id": "49caf78d",
   "metadata": {},
   "source": [
    "The `rm` command can also be used with wild cards just as we went over in previous commands. And, just as with previous commands, the `rm` command can be used with flags. One of the most useful flags with the `rm` command is the `-r` flag, which allows you to remove entire directories. Just as above with the `ls` command, we use flags with the `rm` command in the format `rm [flags] [file_or_directory_name]`. The command below uses the `-r` flag to delete the `data1` directory from the `exampleData` directory."
   ]
  },
  {
   "cell_type": "code",
   "execution_count": null,
   "id": "0f1d9c09",
   "metadata": {},
   "outputs": [],
   "source": [
    "rm -r ~/tutorialDocs/exampleData/data1\n",
    "ls ~/tutorialDocs/exampleData"
   ]
  },
  {
   "cell_type": "markdown",
   "id": "bb08cd00",
   "metadata": {},
   "source": [
    "# What's next?\n",
    "The commands outlined in this tutorial were all interactive and can be run directly in this notebook. However, there are some commands that are particularly important for those of you who work in command line on remote servers. These commands include `ssh`, `scp`, and more that cannot be run interactively in this notebook format. For those interested in learning commands like that, please feel free to read through the additional Jupyter Notebook file located in this repository called `commandLine_intro_continued.ipynb`."
   ]
  }
 ],
 "metadata": {
  "kernelspec": {
   "display_name": "Bash",
   "language": "bash",
   "name": "bash"
  },
  "language_info": {
   "codemirror_mode": "shell",
   "file_extension": ".sh",
   "mimetype": "text/x-sh",
   "name": "bash"
  }
 },
 "nbformat": 4,
 "nbformat_minor": 5
}
