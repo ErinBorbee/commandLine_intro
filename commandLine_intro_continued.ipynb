{
 "cells": [
  {
   "cell_type": "markdown",
   "id": "a923a657",
   "metadata": {},
   "source": [
    "# Command Line Intro Continued - Working on a remote server\n",
    "Often, high-throughput sequencing data is too large to work with on your local computer. Instead, we store and work with our sequences on a remote server, which requires us to know how to log in remotely, transfer files between our local computer and the remote server, and submit jobs on the server. In this portion of the tutorial, I provide overview of commands that allow us to do all of those tasks on the Texas State University LEAP High Computing Performance Cluster. Because the commands provided are to be used on a remote server, this tutorial is not designed to be interactive but rather to provide overview of the commands and what they do.\n",
    "\n",
    "\n",
    "The commands covered in this tutorial include:\n",
    "\n",
    "secure connect - `ssh`\n",
    "\n",
    "Writing/editing scripts - `nano`, `vi`\n",
    "\n",
    "secure copy - `scp`\n",
    "\n",
    "submit job - `sbatch`\n",
    "\n",
    "cancel job - `scancel`\n",
    "\n",
    "check job queue - `squeue`"
   ]
  },
  {
   "cell_type": "markdown",
   "id": "e5f3cd96",
   "metadata": {},
   "source": [
    "### Secure connect - `ssh`\n",
    "The `ssh` command allows you to remote log in to a server or computer from any command line terminal. The usage for the command is as follows: `ssh username@serverAddress`. The username will be specific to you and in the case of the LEAP server at Texas State, your username will be your NetID. The server address tells the command what system you are logging into. In the case of the LEAP server, the address will be `leap.txstate.edu`. \n",
    "\n",
    "If you are logging into another computer the username will be the user account you are logging into on the computer, and the server address will be the IP address for that computer. On Macs the IP address can be found under `System Preferences > Sharing > Remote Login` (note: Remote Login must be checked in order for the `ssh` command to work). \n",
    "\n",
    "Once you have run the `ssh` command with your user name and server address, you will be prompted to enter your password. For the LEAP server at Texas State, your password will be the same password as you single sign on (the password you use for canvas, outlook, SAP portal, etc.). Your pasword will not appear as you type it so once you have finished typing, press enter, and you should be logged in. An example of this code is provided below."
   ]
  },
  {
   "cell_type": "code",
   "execution_count": null,
   "id": "86e58bc9",
   "metadata": {},
   "outputs": [],
   "source": [
    "ssh netID@leap.txstate.edu"
   ]
  },
  {
   "cell_type": "markdown",
   "id": "3d2c717e",
   "metadata": {},
   "source": [
    "Once logged in you will be in your home directory. Only you have access to that directory on the LEAP server and this is where you will run any and all data analysis. It is extremely important to keep you file system organized so you can quickly find and access the files you need on the server. From here you can use all of the commands overviewed in the first part of the tutorial to create, delete, and navigate directories."
   ]
  },
  {
   "cell_type": "markdown",
   "id": "64f1dc48",
   "metadata": {},
   "source": [
    "### Writing and editing scripts in terminal - `nano`, `vi`\n",
    "While working remotely, `nano` and `vi` are both good options to create and edit scripts in command line interface (these will also work exactly the same in the terminal on your local computer). The commands for creating new files and editing existing files with each of these commands is as follows:\n",
    "\n",
    "*Creating new files*"
   ]
  },
  {
   "cell_type": "code",
   "execution_count": null,
   "id": "b855883b",
   "metadata": {},
   "outputs": [],
   "source": [
    "nano newFilename"
   ]
  },
  {
   "cell_type": "code",
   "execution_count": null,
   "id": "815719d5",
   "metadata": {},
   "outputs": [],
   "source": [
    "vi newFilename"
   ]
  },
  {
   "cell_type": "markdown",
   "id": "10785fbe",
   "metadata": {},
   "source": [
    "*Editing existing files*"
   ]
  },
  {
   "cell_type": "code",
   "execution_count": null,
   "id": "ffa0c9d5",
   "metadata": {},
   "outputs": [],
   "source": [
    "nano existingFilename"
   ]
  },
  {
   "cell_type": "code",
   "execution_count": null,
   "id": "46c52c03",
   "metadata": {},
   "outputs": [],
   "source": [
    "vi existingFilename"
   ]
  },
  {
   "cell_type": "markdown",
   "id": "7292dd05",
   "metadata": {},
   "source": [
    "Once you run these commands the editor will open allowing you to edit the contents of the file. For the most part, these editors work similarly to one another with just a few differences, which I will summarize below.\n",
    "\n",
    "*Adding new text*\n",
    "\n",
    "In `nano`, when the editor launches you can immediately begin typing to add or edit text. In `vi`, you need to type `i` for insert before you begin adding or editing any text to your file.\n",
    "\n",
    "*Saving and exiting from the editor*\n",
    "\n",
    "In `nano`, the different file options are listed at the bottom of your terminal window. To use any of those option you type `CTRL` + the letter associated with the option you want. For example, `CTRL` + `X` is to exit the editor and `CTRL` + `O` is to save the file and exit the editor. In `vi`, on the other hand, you must first exit the insert mode (what you entered by pressing `i`) by pressing the `esc` key, and the type `:` followed by the letters associated with the option you need. For example, to exit the editor you would type `esc` followed by `:q` for quit, and to save your document and exit the editor you would type `esc` followed by `:wq` for write and quit.\n",
    "\n",
    "*Navigating text in the editor*\n",
    "\n",
    "In both `nano` and `vi` you can navigate the text of your file using the arrow keys or navigate directly to a specific point in the file by hold the `OPTION` key and clicking on the point where you want your cursor. Where the two editors differ is that `vi` offers more flexibilty when outside of the insert mode. Outside of the insert mode, `vi` allows you to use the up and down arrows to scroll through different lines of the script, and allows you to delete entire lines by pressing `D` twice."
   ]
  },
  {
   "cell_type": "markdown",
   "id": "c37ea7bd",
   "metadata": {},
   "source": [
    "### Secure copy - `scp`\n",
    "Often, you have to transfer files between your computer and a remote server. To do this we use the `scp` command. The `scp` command takes the form: `scp ~/filepath/file_you_want_to_copy username@serverAddress:~/filepath_for_destination`. You can use this command to move files between your local computer and a remote server and between different computers. When using this command you need to make sure you pay attention to where you are running the command from (i.e. are you running it from your local computer or the remote server) and the you enter the file you want to copy first and the destination for the file second. Below I summarize different formats for the command when copying files between server and computer.\n",
    "\n",
    "*From local computer to remote server*"
   ]
  },
  {
   "cell_type": "code",
   "execution_count": null,
   "id": "749f609c",
   "metadata": {},
   "outputs": [],
   "source": [
    "#Running command from your local terminal\n",
    "scp ~/filepath/filename netID@leap.txstate.edu:~/file_destination\n",
    "#Running command from the remote server\n",
    "scp username@IPaddress:~/filepath/filename ~/file_destination"
   ]
  },
  {
   "cell_type": "markdown",
   "id": "3daed64f",
   "metadata": {},
   "source": [
    "*From remote server to local computer*"
   ]
  },
  {
   "cell_type": "code",
   "execution_count": null,
   "id": "593deb08",
   "metadata": {},
   "outputs": [],
   "source": [
    "#Running from your local computer\n",
    "scp netID@leap.txstate.edu:~/filepath/filename ~/file_destination\n",
    "#Running from the remote server\n",
    "scp ~/filepath/filename username@IPaddress:~/file_destination"
   ]
  },
  {
   "cell_type": "markdown",
   "id": "75a0cc08",
   "metadata": {},
   "source": [
    "Once you run the command, the terminal window will prompt you for your password either for your server log in or you computer log in depending on the format of your command. After entering your password, the terminal window will show you the status of the copy and when it is complete."
   ]
  },
  {
   "cell_type": "markdown",
   "id": "f0767e76",
   "metadata": {},
   "source": [
    "### Submit job - `sbatch`\n",
    "When working on a server, you must run your scripts by submitting a job. The job manager assigns jobs to different nodes on the server and allows it to work efficiently. The main node (the node you are working on when you first log in) is fine for organizing you file systems using commands covered in the previous part of the tutorial, but scripts and commands that are more computationally heavy will slow down the server for all users if run on the main node. Therefore it is best practice to submit your scripts to the job manager. To do this, we use the `sbatch` command. This command takes the format `sbatch script.sh`. It is also important to include parameters at the beginning of your script for the job, including maximum time limit, required memory, email contact for when the job is finished and more. An example of these parameters is included below.\n",
    "\n",
    "--job-name  -> job name for the queue\n",
    "\n",
    "-N          -> number of nodes\n",
    "\n",
    "-t          -> maximum time limit\n",
    "\n",
    "--partition -> which partition to use (high memory, batch, etc.)\n",
    "\n",
    "--mem       -> amount of memory needed\n",
    "\n",
    "--mail      -> when to email about job\n",
    "\n",
    "--mail-user -> email address for contact \n",
    "\n",
    "-o          -> job output file\n",
    "\n",
    "-e          -> error output file"
   ]
  },
  {
   "cell_type": "code",
   "execution_count": null,
   "id": "05d59c67",
   "metadata": {},
   "outputs": [],
   "source": [
    "#!/bin/bash\n",
    "#SBATCH --job-name=NAME\n",
    "#SBATCH -N 1\n",
    "#SBATCH -t 6-24:0:0\n",
    "#SBATCH --partition=himem\n",
    "#SBATCH --mail-type=end\n",
    "#SBATCH --mem=350G\n",
    "#SBATCH --mail-user=lfuess@txstate.edu\n",
    "#SBATCH -o Map_%j.out\n",
    "#SBATCH -e Map_%j.err"
   ]
  },
  {
   "cell_type": "code",
   "execution_count": null,
   "id": "772840a7",
   "metadata": {},
   "outputs": [],
   "source": [
    "sbatch script.sh"
   ]
  },
  {
   "cell_type": "markdown",
   "id": "1ba43a42",
   "metadata": {},
   "source": [
    "You can also run jobs in array (running the same command on multiple files simultaneously) on the server. When running jobs in array it is best ettiquette to run no more than 10 jobs simulataneously. To do this we add another parameter to the beginning of our script as follows:"
   ]
  },
  {
   "cell_type": "code",
   "execution_count": null,
   "id": "489c5ba1",
   "metadata": {},
   "outputs": [],
   "source": [
    "#SBATCH --array=101-150%10"
   ]
  },
  {
   "cell_type": "markdown",
   "id": "adb74d73",
   "metadata": {},
   "source": [
    "The numbers indicate the range of IDs in your filenames (often sample numbers if those are included in your filenames) and the %10 tells the job manager to run no more than 10 jobs in the array simultaneously.\n",
    "\n",
    "Once you have submitted the job you will get a job ID number that you can use to find your job in the queue or cancel your job while it's running."
   ]
  },
  {
   "cell_type": "markdown",
   "id": "055929b8",
   "metadata": {},
   "source": [
    "### Check job queue - `squeue`\n",
    "Once a job is submitted, you can check the status of the job and how long it has been running using the `squeue` command. This command can be run simply by running `squeue`, or by adding options to the command including job number and username. The first command is the base `squeue` command that will list the entire job queue. The second command uses the `-u` option to tell the server to only print jobs in the queue from a list of comma separated list of users. And the third command uses the `-j` option to tell the server to print only the jobs included in a comma separated list of job IDs."
   ]
  },
  {
   "cell_type": "code",
   "execution_count": null,
   "id": "3787b5b9",
   "metadata": {},
   "outputs": [],
   "source": [
    "squeue"
   ]
  },
  {
   "cell_type": "code",
   "execution_count": null,
   "id": "ca5ed820",
   "metadata": {},
   "outputs": [],
   "source": [
    "squeue -u username"
   ]
  },
  {
   "cell_type": "code",
   "execution_count": null,
   "id": "9a535162",
   "metadata": {},
   "outputs": [],
   "source": [
    "squeue -j jobID"
   ]
  },
  {
   "cell_type": "markdown",
   "id": "799bd3e9",
   "metadata": {},
   "source": [
    "### Cancel job - `scancel`\n",
    "After a job has begun running, it can be canceled at any point using the `scancel` command. The `scancel` command works similar to the `squeue` command. On the LEAP server you can run it on its own to cancel any job you have submitted, or you can use it with the `-u` options to cancel jobs from a specific username or with `-n` to cancel a job with a specific job name."
   ]
  },
  {
   "cell_type": "code",
   "execution_count": null,
   "id": "e29cce19",
   "metadata": {},
   "outputs": [],
   "source": [
    "scancel"
   ]
  },
  {
   "cell_type": "code",
   "execution_count": null,
   "id": "ef3b9660",
   "metadata": {},
   "outputs": [],
   "source": [
    "scancel -u username"
   ]
  },
  {
   "cell_type": "code",
   "execution_count": null,
   "id": "a8fbbaa4",
   "metadata": {},
   "outputs": [],
   "source": [
    "scancel -n jobName"
   ]
  },
  {
   "cell_type": "markdown",
   "id": "15ab8561",
   "metadata": {},
   "source": [
    "### Get node information - `sinfo`\n",
    "When writing your bash scripts you will need to designate partitions, node numbers, and more. If you need to see the node and partition information for the system you are working on you can use the `sinfo` command. Just as with most of the above commands the usage is simply the name of the command as shown below."
   ]
  },
  {
   "cell_type": "code",
   "execution_count": null,
   "id": "74886f49",
   "metadata": {},
   "outputs": [],
   "source": [
    "sinfo"
   ]
  }
 ],
 "metadata": {
  "kernelspec": {
   "display_name": "Bash",
   "language": "bash",
   "name": "bash"
  },
  "language_info": {
   "codemirror_mode": "shell",
   "file_extension": ".sh",
   "mimetype": "text/x-sh",
   "name": "bash"
  }
 },
 "nbformat": 4,
 "nbformat_minor": 5
}
